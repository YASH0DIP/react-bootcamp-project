{
  "nbformat": 4,
  "nbformat_minor": 0,
  "metadata": {
    "colab": {
      "name": "react-bootcamp-project.ipynb",
      "provenance": [],
      "collapsed_sections": [],
      "authorship_tag": "ABX9TyOGdgTC0ZTvG72OOuBLosP7",
      "include_colab_link": true
    },
    "kernelspec": {
      "name": "python3",
      "display_name": "Python 3"
    },
    "language_info": {
      "name": "python"
    }
  },
  "cells": [
    {
      "cell_type": "markdown",
      "metadata": {
        "id": "view-in-github",
        "colab_type": "text"
      },
      "source": [
        "<a href=\"https://colab.research.google.com/github/YASH0DIP/react-bootcamp-project/blob/master/react_bootcamp_project.ipynb\" target=\"_parent\"><img src=\"https://colab.research.google.com/assets/colab-badge.svg\" alt=\"Open In Colab\"/></a>"
      ]
    },
    {
      "cell_type": "code",
      "metadata": {
        "id": "oWHzRg2bnkrR",
        "colab": {
          "base_uri": "https://localhost:8080/"
        },
        "outputId": "4552d71c-a031-4a2d-9266-1a417a5f3d24"
      },
      "source": [
        "!git clone -l -s git://github.com/YASH0DIP/react-bootcamp-project.git cloned-repo"
      ],
      "execution_count": 1,
      "outputs": [
        {
          "output_type": "stream",
          "name": "stdout",
          "text": [
            "Cloning into 'cloned-repo'...\n",
            "warning: --local is ignored\n",
            "remote: Enumerating objects: 64, done.\u001b[K\n",
            "remote: Counting objects: 100% (64/64), done.\u001b[K\n",
            "remote: Compressing objects: 100% (56/56), done.\u001b[K\n",
            "remote: Total 64 (delta 5), reused 64 (delta 5), pack-reused 0\u001b[K\n",
            "Receiving objects: 100% (64/64), 16.80 MiB | 17.82 MiB/s, done.\n",
            "Resolving deltas: 100% (5/5), done.\n"
          ]
        }
      ]
    },
    {
      "cell_type": "code",
      "metadata": {
        "colab": {
          "base_uri": "https://localhost:8080/"
        },
        "id": "HzHM4FYmoGs-",
        "outputId": "bd004249-8bc9-4d82-8323-7447deb95e4a"
      },
      "source": [
        "!ls"
      ],
      "execution_count": 10,
      "outputs": [
        {
          "output_type": "stream",
          "name": "stdout",
          "text": [
            "package.json  package-lock.json  public  README.md  src\n"
          ]
        }
      ]
    }
  ]
}